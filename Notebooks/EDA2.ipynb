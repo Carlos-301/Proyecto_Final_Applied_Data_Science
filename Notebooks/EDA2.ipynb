{
 "cells": [
  {
   "cell_type": "markdown",
   "id": "735cce13",
   "metadata": {},
   "source": [
    "### En este Notebook se buscara realizar un entendimiento inicial de los datos de los registros medicos"
   ]
  },
  {
   "cell_type": "code",
   "execution_count": 1,
   "id": "0911f994",
   "metadata": {},
   "outputs": [],
   "source": [
    "import pandas as pd\n",
    "import numpy as np\n",
    "import matplotlib.pyplot as plt\n",
    "import seaborn as sns"
   ]
  },
  {
   "cell_type": "code",
   "execution_count": 2,
   "id": "02959252",
   "metadata": {},
   "outputs": [
    {
     "name": "stdout",
     "output_type": "stream",
     "text": [
      "Hojas disponibles en el Excel:\n",
      "1. data\n",
      "2. personales\n",
      "3. DX\n",
      "4. laboratorios\n",
      "5. motivoConsulta\n"
     ]
    }
   ],
   "source": [
    "# Ruta al archivo Excel\n",
    "excel_path = \"C:\\\\Users\\\\wired\\\\Downloads\\\\Proyecto_Final_Applied_Data_Science\\\\Notebooks\\\\data\\\\Base entrega.xlsx\"\n",
    "\n",
    "# Cargar el archivo Excel para explorar sus hojas\n",
    "excel_file = pd.ExcelFile(excel_path)\n",
    "\n",
    "# Ver los nombres de todas las hojas\n",
    "print(\"Hojas disponibles en el Excel:\")\n",
    "for i, sheet in enumerate(excel_file.sheet_names):\n",
    "    print(f\"{i+1}. {sheet}\")"
   ]
  },
  {
   "cell_type": "markdown",
   "id": "8b79687a",
   "metadata": {},
   "source": [
    "## Convertir cada hoja a CSV\n",
    "\n",
    "Esto facilitará el trabajo futuro y mejorará el rendimiento del análisis."
   ]
  },
  {
   "cell_type": "code",
   "execution_count": 3,
   "id": "2fa23411",
   "metadata": {},
   "outputs": [],
   "source": [
    "import os\n",
    "\n",
    "# Crear carpeta para los CSV si no existe\n",
    "csv_folder = \"C:\\\\Users\\\\wired\\\\Downloads\\\\Proyecto_Final_Applied_Data_Science\\\\Notebooks\\\\data\\\\csv\"\n",
    "os.makedirs(csv_folder, exist_ok=True)\n",
    "\n",
    "# Convertir cada hoja a CSV\n",
    "for sheet_name in excel_file.sheet_names:\n",
    "    # Leer la hoja\n",
    "    df = pd.read_excel(excel_file, sheet_name=sheet_name)\n",
    "    \n",
    "    # Crear nombre del archivo CSV (reemplazar caracteres especiales)\n",
    "    csv_filename = sheet_name.replace(\" \", \"_\").replace(\"/\", \"-\")\n",
    "    csv_path = os.path.join(csv_folder, f\"{csv_filename}.csv\")\n",
    "    \n",
    "    # Guardar como CSV\n",
    "    df.to_csv(csv_path, index=False, encoding='utf-8-sig')"
   ]
  },
  {
   "cell_type": "markdown",
   "id": "85b8791f",
   "metadata": {},
   "source": [
    "\n",
    "### Analisis Exploratorio de datos por hoja"
   ]
  },
  {
   "cell_type": "markdown",
   "id": "f1388395",
   "metadata": {},
   "source": [
    "### 3. Hoja: DX"
   ]
  },
  {
   "cell_type": "code",
   "execution_count": null,
   "id": "ff403b96",
   "metadata": {},
   "outputs": [
    {
     "name": "stdout",
     "output_type": "stream",
     "text": [
      "Dimensiones: (900, 8)\n",
      "Columnas: ['EVENTO', 'Codigo', 'FIBROSIS', 'NUMPACIENTE', 'DIAGNOSTICO', 'NOMBRE_DIAGNOSTICO', 'PRINCIPAL', 'FECHA_DIAGNOSTICO']\n"
     ]
    },
    {
     "data": {
      "text/html": [
       "<div>\n",
       "<style scoped>\n",
       "    .dataframe tbody tr th:only-of-type {\n",
       "        vertical-align: middle;\n",
       "    }\n",
       "\n",
       "    .dataframe tbody tr th {\n",
       "        vertical-align: top;\n",
       "    }\n",
       "\n",
       "    .dataframe thead th {\n",
       "        text-align: right;\n",
       "    }\n",
       "</style>\n",
       "<table border=\"1\" class=\"dataframe\">\n",
       "  <thead>\n",
       "    <tr style=\"text-align: right;\">\n",
       "      <th></th>\n",
       "      <th>EVENTO</th>\n",
       "      <th>Codigo</th>\n",
       "      <th>FIBROSIS</th>\n",
       "      <th>NUMPACIENTE</th>\n",
       "      <th>DIAGNOSTICO</th>\n",
       "      <th>NOMBRE_DIAGNOSTICO</th>\n",
       "      <th>PRINCIPAL</th>\n",
       "      <th>FECHA_DIAGNOSTICO</th>\n",
       "    </tr>\n",
       "  </thead>\n",
       "  <tbody>\n",
       "    <tr>\n",
       "      <th>0</th>\n",
       "      <td>31</td>\n",
       "      <td>2-10</td>\n",
       "      <td>F2</td>\n",
       "      <td>58</td>\n",
       "      <td>E660</td>\n",
       "      <td>OBESIDAD DEBIDA A EXCESO DE CALORIAS</td>\n",
       "      <td>N</td>\n",
       "      <td>2023-05-23 08:42:52</td>\n",
       "    </tr>\n",
       "    <tr>\n",
       "      <th>1</th>\n",
       "      <td>32</td>\n",
       "      <td>2-10</td>\n",
       "      <td>F2</td>\n",
       "      <td>58</td>\n",
       "      <td>K760</td>\n",
       "      <td>DEGENERACION GRASA DEL HIGADO, NO CLASIFICADAS...</td>\n",
       "      <td>N</td>\n",
       "      <td>2023-05-23 09:42:43</td>\n",
       "    </tr>\n",
       "    <tr>\n",
       "      <th>2</th>\n",
       "      <td>46</td>\n",
       "      <td>2-10</td>\n",
       "      <td>F2</td>\n",
       "      <td>58</td>\n",
       "      <td>K740</td>\n",
       "      <td>FIBROSIS HEPATICA</td>\n",
       "      <td>N</td>\n",
       "      <td>2024-05-24 15:44:58</td>\n",
       "    </tr>\n",
       "    <tr>\n",
       "      <th>3</th>\n",
       "      <td>41</td>\n",
       "      <td>2-10</td>\n",
       "      <td>F2</td>\n",
       "      <td>58</td>\n",
       "      <td>R945</td>\n",
       "      <td>RESULTADOS ANORMALES EN ESTUDIOS FUNCIONALES D...</td>\n",
       "      <td>N</td>\n",
       "      <td>2024-02-14 16:02:28</td>\n",
       "    </tr>\n",
       "    <tr>\n",
       "      <th>4</th>\n",
       "      <td>38</td>\n",
       "      <td>2-10</td>\n",
       "      <td>F2</td>\n",
       "      <td>58</td>\n",
       "      <td>K760</td>\n",
       "      <td>DEGENERACION GRASA DEL HIGADO, NO CLASIFICADAS...</td>\n",
       "      <td>N</td>\n",
       "      <td>2023-12-21 14:51:22</td>\n",
       "    </tr>\n",
       "  </tbody>\n",
       "</table>\n",
       "</div>"
      ],
      "text/plain": [
       "   EVENTO Codigo FIBROSIS  NUMPACIENTE DIAGNOSTICO  \\\n",
       "0      31   2-10       F2           58    E660       \n",
       "1      32   2-10       F2           58    K760       \n",
       "2      46   2-10       F2           58    K740       \n",
       "3      41   2-10       F2           58    R945       \n",
       "4      38   2-10       F2           58    K760       \n",
       "\n",
       "                                  NOMBRE_DIAGNOSTICO PRINCIPAL  \\\n",
       "0               OBESIDAD DEBIDA A EXCESO DE CALORIAS         N   \n",
       "1  DEGENERACION GRASA DEL HIGADO, NO CLASIFICADAS...         N   \n",
       "2                                  FIBROSIS HEPATICA         N   \n",
       "3  RESULTADOS ANORMALES EN ESTUDIOS FUNCIONALES D...         N   \n",
       "4  DEGENERACION GRASA DEL HIGADO, NO CLASIFICADAS...         N   \n",
       "\n",
       "     FECHA_DIAGNOSTICO  \n",
       "0  2023-05-23 08:42:52  \n",
       "1  2023-05-23 09:42:43  \n",
       "2  2024-05-24 15:44:58  \n",
       "3  2024-02-14 16:02:28  \n",
       "4  2023-12-21 14:51:22  "
      ]
     },
     "metadata": {},
     "output_type": "display_data"
    }
   ],
   "source": [
    "# Cargar hoja 'DX'\n",
    "df_dx = pd.read_csv(f\"{csv_folder}/DX.csv\")\n",
    "print(f\"Dimensiones: {df_dx.shape}\")\n",
    "print(f\"Columnas: {list(df_dx.columns)}\")\n",
    "df_dx.head()"
   ]
  },
  {
   "cell_type": "markdown",
   "id": "33b339f1",
   "metadata": {},
   "source": [
    "### Analisis Univariado y Bivariado"
   ]
  },
  {
   "cell_type": "code",
   "execution_count": null,
   "id": "dd19aca6",
   "metadata": {},
   "outputs": [
    {
     "name": "stdout",
     "output_type": "stream",
     "text": [
      "Total de registros: 900\n",
      "Total de eventos únicos: 108\n",
      "Total de pacientes únicos: 94\n",
      "Promedio de eventos por paciente: 1.15\n"
     ]
    }
   ],
   "source": [
    "eventos_unicos = df_dx[\"EVENTO\"].nunique()\n",
    "pacientes_unicos = df_dx[\"NUMPACIENTE\"].nunique()\n",
    "total_registros = len(df_dx)\n",
    "\n",
    "print(f\"Total de registros: {total_registros}\")\n",
    "print(f\"Total de eventos únicos: {eventos_unicos}\")\n",
    "print(f\"Total de pacientes únicos: {pacientes_unicos}\")\n",
    "print(f\"Promedio de eventos por paciente: {eventos_unicos / pacientes_unicos:.2f}\")\n"
   ]
  },
  {
   "cell_type": "code",
   "execution_count": null,
   "id": "386189be",
   "metadata": {},
   "outputs": [
    {
     "data": {
      "text/plain": [
       "count    94.000000\n",
       "mean      8.563830\n",
       "std      10.597787\n",
       "min       1.000000\n",
       "25%       2.000000\n",
       "50%       5.000000\n",
       "75%      10.000000\n",
       "max      63.000000\n",
       "Name: EVENTO, dtype: float64"
      ]
     },
     "metadata": {},
     "output_type": "display_data"
    }
   ],
   "source": [
    "df_dx.groupby(\"NUMPACIENTE\")[\"EVENTO\"].nunique().describe()\n"
   ]
  },
  {
   "cell_type": "code",
   "execution_count": null,
   "id": "b12fb3b6",
   "metadata": {},
   "outputs": [
    {
     "data": {
      "text/plain": [
       "FIBROSIS\n",
       "F1    299\n",
       "F4    243\n",
       "F3    221\n",
       "F2     91\n",
       "F0     46\n",
       "Name: count, dtype: int64"
      ]
     },
     "metadata": {},
     "output_type": "display_data"
    }
   ],
   "source": [
    "df_dx[\"FIBROSIS\"].value_counts()"
   ]
  },
  {
   "cell_type": "code",
   "execution_count": null,
   "id": "f0960b94",
   "metadata": {},
   "outputs": [
    {
     "name": "stdout",
     "output_type": "stream",
     "text": [
      "Pacientes con más de un estadio de fibrosis: 0\n"
     ]
    }
   ],
   "source": [
    "fibrosis_por_paciente = df_dx.groupby(\"NUMPACIENTE\")[\"FIBROSIS\"].nunique()\n",
    "print(\"Pacientes con más de un estadio de fibrosis:\", (fibrosis_por_paciente > 1).sum())\n"
   ]
  },
  {
   "cell_type": "code",
   "execution_count": null,
   "id": "1e9972ed",
   "metadata": {},
   "outputs": [
    {
     "name": "stdout",
     "output_type": "stream",
     "text": [
      "Top 3 pacientes con mayor número de eventos y su estado de fibrosis:\n",
      "\n",
      " NUMPACIENTE FIBROSIS  num_eventos\n",
      "          80       F3           70\n",
      "          27       F1           49\n",
      "          15       F1           49\n"
     ]
    }
   ],
   "source": [
    "# Contar el número de eventos por paciente\n",
    "eventos_por_paciente = (\n",
    "    df_dx.groupby(\"NUMPACIENTE\")[\"EVENTO\"]\n",
    "    .count()\n",
    "    .reset_index(name=\"num_eventos\")\n",
    "    .sort_values(by=\"num_eventos\", ascending=False)\n",
    ")\n",
    "\n",
    "# Obtener el Top 3 de pacientes con más eventos\n",
    "top3_pacientes = eventos_por_paciente.head(3)\n",
    "\n",
    "# Cruzar con la información de fibrosis\n",
    "top3_fibrosis = (\n",
    "    df_dx.merge(top3_pacientes, on=\"NUMPACIENTE\")[[\"NUMPACIENTE\", \"FIBROSIS\", \"num_eventos\"]]\n",
    "    .drop_duplicates(subset=[\"NUMPACIENTE\"])\n",
    "    .sort_values(by=\"num_eventos\", ascending=False)\n",
    ")\n",
    "\n",
    "print(\"Top 3 pacientes con mayor número de eventos y su estado de fibrosis:\\n\")\n",
    "print(top3_fibrosis.to_string(index=False))\n"
   ]
  },
  {
   "cell_type": "markdown",
   "id": "b0ca8c11",
   "metadata": {},
   "source": [
    "Esta hoja no evidencia una evolucion de la estadia de la enefermedad en los pacientes a traves del tiempo."
   ]
  },
  {
   "cell_type": "code",
   "execution_count": null,
   "id": "7b0bd097",
   "metadata": {},
   "outputs": [
    {
     "name": "stdout",
     "output_type": "stream",
     "text": [
      "Diagnóstico más frecuente por estadio de fibrosis:\n",
      "\n",
      "F0: DEGENERACION GRASA DEL HIGADO, NO CLASIFICADAS EN OTRA PARTE\n",
      "F1: DEGENERACION GRASA DEL HIGADO, NO CLASIFICADAS EN OTRA PARTE\n",
      "F2: DEGENERACION GRASA DEL HIGADO, NO CLASIFICADAS EN OTRA PARTE\n",
      "F3: OTRAS CIRROSIS DEL HIGADO Y LAS NO ESPECIFICADAS\n",
      "F4: OTRAS CIRROSIS DEL HIGADO Y LAS NO ESPECIFICADAS\n"
     ]
    }
   ],
   "source": [
    "# Obtener el diagnóstico más frecuente por cada estadio\n",
    "diagnostico_top = (\n",
    "    df_dx.groupby(\"FIBROSIS\")[\"NOMBRE_DIAGNOSTICO\"]\n",
    "    .agg(lambda x: x.value_counts().idxmax())\n",
    ")\n",
    "\n",
    "print(\"Diagnóstico más frecuente por estadio de fibrosis:\\n\")\n",
    "for fibrosis, diag in diagnostico_top.items():\n",
    "    print(f\"{fibrosis}: {diag}\")\n",
    "\n"
   ]
  },
  {
   "cell_type": "markdown",
   "id": "ba81079a",
   "metadata": {},
   "source": [
    "En los estadios F0, F1 y F2 predomina el diagnóstico de *degeneración grasa del hígado*, lo que indica que en las fases tempranas la enfermedad se asocia principalmente con este tipo de alteración hepática. En cambio, en los estadios avanzados F3 y F4 el diagnóstico más frecuente corresponde a *otras cirrosis del hígado*, reflejando la progresión natural hacia un daño hepático crónico y estructural.\n"
   ]
  },
  {
   "cell_type": "code",
   "execution_count": null,
   "id": "0d63e366",
   "metadata": {},
   "outputs": [
    {
     "name": "stdout",
     "output_type": "stream",
     "text": [
      "FIBROSIS\n",
      "F1    0.356564\n",
      "F3    0.247974\n",
      "F4    0.244733\n",
      "F2    0.094003\n",
      "F0    0.056726\n",
      "Name: proportion, dtype: float64\n"
     ]
    }
   ],
   "source": [
    "principal = df_dx[df_dx[\"PRINCIPAL\"]==\"S\"]\n",
    "print(principal[\"FIBROSIS\"].value_counts(normalize=True))\n"
   ]
  },
  {
   "cell_type": "markdown",
   "id": "8c706437",
   "metadata": {},
   "source": [
    "La mayor proporción de diagnósticos principales corresponde al estadio F1 (36%), lo que sugiere que muchos pacientes son identificados en fases tempranas o en seguimiento inicial de la fibrosis. Los estadios avanzados F3 y F4 representan cerca del 25% cada uno, reflejando casos más graves esperables en un hospital de referencia. En contraste, los estadios leves F0 y F2 son menos frecuentes (5.7% y 9.4%), coherente con su detección habitual en evaluaciones secundarias o de control."
   ]
  },
  {
   "cell_type": "markdown",
   "id": "9b841e25",
   "metadata": {},
   "source": [
    "### **Analisis Grafico**"
   ]
  },
  {
   "cell_type": "code",
   "execution_count": null,
   "id": "574daf1c",
   "metadata": {},
   "outputs": [
    {
     "name": "stderr",
     "output_type": "stream",
     "text": [
      "C:\\Users\\wired\\AppData\\Local\\Temp\\ipykernel_20744\\3054853257.py:8: FutureWarning: \n",
      "\n",
      "Passing `palette` without assigning `hue` is deprecated and will be removed in v0.14.0. Assign the `x` variable to `hue` and set `legend=False` for the same effect.\n",
      "\n",
      "  sns.barplot(x=pacientes_por_fibrosis.index, y=pacientes_por_fibrosis.values, palette=\"viridis\")\n"
     ]
    },
    {
     "data": {
      "image/png": "[encoded data removed]",
      "text/plain": [
       "<Figure size 600x400 with 1 Axes>"
      ]
     },
     "metadata": {},
     "output_type": "display_data"
    }
   ],
   "source": [
    "import matplotlib.pyplot as plt\n",
    "import seaborn as sns\n",
    "\n",
    "# Contar pacientes únicos por estadio de fibrosis\n",
    "pacientes_por_fibrosis = df_dx.groupby(\"FIBROSIS\")[\"NUMPACIENTE\"].nunique().reindex([\"F0\",\"F1\",\"F2\",\"F3\",\"F4\"])\n",
    "\n",
    "plt.figure(figsize=(6,4))\n",
    "sns.barplot(x=pacientes_por_fibrosis.index, y=pacientes_por_fibrosis.values, palette=\"viridis\")\n",
    "plt.title(\"Pacientes únicos por estadio de fibrosis\")\n",
    "plt.xlabel(\"Estadio de fibrosis\")\n",
    "plt.ylabel(\"Número de pacientes únicos\")\n",
    "plt.show()\n"
   ]
  },
  {
   "cell_type": "markdown",
   "id": "3bdd01b1",
   "metadata": {},
   "source": [
    "### 5. Hoja: personales"
   ]
  },
  {
   "cell_type": "code",
   "execution_count": null,
   "id": "58900ac5",
   "metadata": {},
   "outputs": [
    {
     "name": "stdout",
     "output_type": "stream",
     "text": [
      "Dimensiones: (120, 6)\n",
      "Columnas: ['Codigo', 'FIBROSIS', 'NUMPACIENTE', 'FECHA_NACIMIENTO', 'EDAD_ACTUAL', 'SEXO_PAC']\n"
     ]
    },
    {
     "data": {
      "text/html": [
       "<div>\n",
       "<style scoped>\n",
       "    .dataframe tbody tr th:only-of-type {\n",
       "        vertical-align: middle;\n",
       "    }\n",
       "\n",
       "    .dataframe tbody tr th {\n",
       "        vertical-align: top;\n",
       "    }\n",
       "\n",
       "    .dataframe thead th {\n",
       "        text-align: right;\n",
       "    }\n",
       "</style>\n",
       "<table border=\"1\" class=\"dataframe\">\n",
       "  <thead>\n",
       "    <tr style=\"text-align: right;\">\n",
       "      <th></th>\n",
       "      <th>Codigo</th>\n",
       "      <th>FIBROSIS</th>\n",
       "      <th>NUMPACIENTE</th>\n",
       "      <th>FECHA_NACIMIENTO</th>\n",
       "      <th>EDAD_ACTUAL</th>\n",
       "      <th>SEXO_PAC</th>\n",
       "    </tr>\n",
       "  </thead>\n",
       "  <tbody>\n",
       "    <tr>\n",
       "      <th>0</th>\n",
       "      <td>0-6</td>\n",
       "      <td>F0</td>\n",
       "      <td>6</td>\n",
       "      <td>1965-08-21</td>\n",
       "      <td>60</td>\n",
       "      <td>M</td>\n",
       "    </tr>\n",
       "    <tr>\n",
       "      <th>1</th>\n",
       "      <td>1-19</td>\n",
       "      <td>F1</td>\n",
       "      <td>29</td>\n",
       "      <td>1956-01-16</td>\n",
       "      <td>69</td>\n",
       "      <td>M</td>\n",
       "    </tr>\n",
       "    <tr>\n",
       "      <th>2</th>\n",
       "      <td>2-20</td>\n",
       "      <td>F2</td>\n",
       "      <td>68</td>\n",
       "      <td>1973-03-05</td>\n",
       "      <td>52</td>\n",
       "      <td>M</td>\n",
       "    </tr>\n",
       "    <tr>\n",
       "      <th>3</th>\n",
       "      <td>2-1</td>\n",
       "      <td>F2</td>\n",
       "      <td>49</td>\n",
       "      <td>1984-01-09</td>\n",
       "      <td>41</td>\n",
       "      <td>M</td>\n",
       "    </tr>\n",
       "    <tr>\n",
       "      <th>4</th>\n",
       "      <td>1-22</td>\n",
       "      <td>F1</td>\n",
       "      <td>32</td>\n",
       "      <td>1970-03-08</td>\n",
       "      <td>55</td>\n",
       "      <td>F</td>\n",
       "    </tr>\n",
       "  </tbody>\n",
       "</table>\n",
       "</div>"
      ],
      "text/plain": [
       "  Codigo FIBROSIS  NUMPACIENTE FECHA_NACIMIENTO  EDAD_ACTUAL SEXO_PAC\n",
       "0    0-6       F0            6       1965-08-21           60        M\n",
       "1   1-19       F1           29       1956-01-16           69        M\n",
       "2   2-20       F2           68       1973-03-05           52        M\n",
       "3    2-1       F2           49       1984-01-09           41        M\n",
       "4   1-22       F1           32       1970-03-08           55        F"
      ]
     },
     "metadata": {},
     "output_type": "display_data"
    }
   ],
   "source": [
    "# Cargar hoja 'personales'\n",
    "df_personales = pd.read_csv(f\"{csv_folder}/personales.csv\")\n",
    "print(f\"Dimensiones: {df_personales.shape}\")\n",
    "print(f\"Columnas: {list(df_personales.columns)}\")\n",
    "df_personales.head()"
   ]
  },
  {
   "cell_type": "markdown",
   "id": "4c7b62ae",
   "metadata": {},
   "source": [
    "### **Analisis Grafico**"
   ]
  },
  {
   "cell_type": "code",
   "execution_count": null,
   "id": "55aa9c19",
   "metadata": {},
   "outputs": [
    {
     "name": "stderr",
     "output_type": "stream",
     "text": [
      "C:\\Users\\wired\\AppData\\Local\\Temp\\ipykernel_20744\\3310464267.py:5: FutureWarning: \n",
      "\n",
      "Passing `palette` without assigning `hue` is deprecated and will be removed in v0.14.0. Assign the `x` variable to `hue` and set `legend=False` for the same effect.\n",
      "\n",
      "  sns.countplot(x=\"SEXO_PAC\", data=df_personales, palette=\"pastel\")\n"
     ]
    },
    {
     "data": {
      "image/png": "[encoded data removed]",
      "text/plain": [
       "<Figure size 500x400 with 1 Axes>"
      ]
     },
     "metadata": {},
     "output_type": "display_data"
    }
   ],
   "source": [
    "import seaborn as sns\n",
    "import matplotlib.pyplot as plt\n",
    "\n",
    "plt.figure(figsize=(5,4))\n",
    "sns.countplot(x=\"SEXO_PAC\", data=df_personales, palette=\"pastel\")\n",
    "plt.title(\"Distribución de pacientes por sexo\")\n",
    "plt.xlabel(\"Sexo\")\n",
    "plt.ylabel(\"Número de pacientes\")\n",
    "plt.show()\n"
   ]
  },
  {
   "cell_type": "code",
   "execution_count": null,
   "id": "8c6f9bb3",
   "metadata": {},
   "outputs": [
    {
     "name": "stderr",
     "output_type": "stream",
     "text": [
      "C:\\Users\\wired\\AppData\\Local\\Temp\\ipykernel_20744\\348017114.py:2: FutureWarning: \n",
      "\n",
      "Passing `palette` without assigning `hue` is deprecated and will be removed in v0.14.0. Assign the `x` variable to `hue` and set `legend=False` for the same effect.\n",
      "\n",
      "  sns.barplot(x=\"FIBROSIS\", y=\"EDAD_ACTUAL\", data=df_personales, order=[\"F0\",\"F1\",\"F2\",\"F3\",\"F4\"], palette=\"mako\")\n"
     ]
    },
    {
     "data": {
      "image/png": "[encoded data removed]",
      "text/plain": [
       "<Figure size 600x400 with 1 Axes>"
      ]
     },
     "metadata": {},
     "output_type": "display_data"
    }
   ],
   "source": [
    "plt.figure(figsize=(6,4))\n",
    "sns.barplot(x=\"FIBROSIS\", y=\"EDAD_ACTUAL\", data=df_personales, order=[\"F0\",\"F1\",\"F2\",\"F3\",\"F4\"], palette=\"mako\")\n",
    "plt.title(\"Edad promedio por estadio de fibrosis\")\n",
    "plt.xlabel(\"Estadio de fibrosis\")\n",
    "plt.ylabel(\"Edad promedio\")\n",
    "plt.show()\n"
   ]
  },
  {
   "cell_type": "markdown",
   "id": "adc10d55",
   "metadata": {},
   "source": [
    "La gráfica muestra que la edad promedio de los pacientes con fibrosis hepática se concentra alrededor de los 60 años en todos los estadios, con ligeras variaciones. Aunque no se observa una relación lineal clara entre edad y severidad, los estadios más avanzados (F3 y F4) también se presentan principalmente en adultos mayores, lo que es coherente con la progresión crónica de la enfermedad hepática a lo largo del tiempo."
   ]
  },
  {
   "cell_type": "code",
   "execution_count": null,
   "id": "c91b4962",
   "metadata": {},
   "outputs": [
    {
     "data": {
      "image/png": "[encoded data removed]",
      "text/plain": [
       "<Figure size 700x500 with 1 Axes>"
      ]
     },
     "metadata": {},
     "output_type": "display_data"
    }
   ],
   "source": [
    "plt.figure(figsize=(7,5))\n",
    "sns.countplot(x=\"FIBROSIS\", hue=\"SEXO_PAC\", data=df_personales, order=[\"F0\",\"F1\",\"F2\",\"F3\",\"F4\"], palette=\"Set2\")\n",
    "plt.title(\"Distribución de fibrosis por sexo del paciente\")\n",
    "plt.xlabel(\"Estadio de fibrosis\")\n",
    "plt.ylabel(\"Número de pacientes\")\n",
    "plt.legend(title=\"Sexo\")\n",
    "plt.show()\n"
   ]
  },
  {
   "cell_type": "markdown",
   "id": "491fd094",
   "metadata": {},
   "source": [
    "La gráfica muestra la distribución del estadio de fibrosis según el sexo de los pacientes. Se observa que las mujeres presentan una mayor frecuencia en casi todos los estadios, especialmente en F1 y F3, mientras que los hombres son menos numerosos en cada categoría. Esto podría indicar una mayor detección o seguimiento en mujeres, o bien reflejar diferencias en la exposición a factores de riesgo o en la búsqueda de atención médica entre ambos sexos.\n"
   ]
  },
  {
   "cell_type": "markdown",
   "id": "07cf1222",
   "metadata": {},
   "source": [
    "### **Analisis Conjunto de las hojas**"
   ]
  },
  {
   "cell_type": "code",
   "execution_count": null,
   "id": "322b0488",
   "metadata": {},
   "outputs": [
    {
     "name": "stdout",
     "output_type": "stream",
     "text": [
      "Dimensiones: (900, 12)\n",
      "Columnas: ['EVENTO', 'Codigo_x', 'FIBROSIS', 'NUMPACIENTE', 'DIAGNOSTICO', 'NOMBRE_DIAGNOSTICO', 'PRINCIPAL', 'FECHA_DIAGNOSTICO', 'Codigo_y', 'FECHA_NACIMIENTO', 'EDAD_ACTUAL', 'SEXO_PAC']\n",
      "Registros únicos de pacientes: 94\n",
      "Estadios de fibrosis presentes: ['F2' 'F3' 'F4' 'F1' 'F0']\n"
     ]
    },
    {
     "data": {
      "text/html": [
       "<div>\n",
       "<style scoped>\n",
       "    .dataframe tbody tr th:only-of-type {\n",
       "        vertical-align: middle;\n",
       "    }\n",
       "\n",
       "    .dataframe tbody tr th {\n",
       "        vertical-align: top;\n",
       "    }\n",
       "\n",
       "    .dataframe thead th {\n",
       "        text-align: right;\n",
       "    }\n",
       "</style>\n",
       "<table border=\"1\" class=\"dataframe\">\n",
       "  <thead>\n",
       "    <tr style=\"text-align: right;\">\n",
       "      <th></th>\n",
       "      <th>EVENTO</th>\n",
       "      <th>Codigo_x</th>\n",
       "      <th>FIBROSIS</th>\n",
       "      <th>NUMPACIENTE</th>\n",
       "      <th>DIAGNOSTICO</th>\n",
       "      <th>NOMBRE_DIAGNOSTICO</th>\n",
       "      <th>PRINCIPAL</th>\n",
       "      <th>FECHA_DIAGNOSTICO</th>\n",
       "      <th>Codigo_y</th>\n",
       "      <th>FECHA_NACIMIENTO</th>\n",
       "      <th>EDAD_ACTUAL</th>\n",
       "      <th>SEXO_PAC</th>\n",
       "    </tr>\n",
       "  </thead>\n",
       "  <tbody>\n",
       "    <tr>\n",
       "      <th>0</th>\n",
       "      <td>31</td>\n",
       "      <td>2-10</td>\n",
       "      <td>F2</td>\n",
       "      <td>58</td>\n",
       "      <td>E660</td>\n",
       "      <td>OBESIDAD DEBIDA A EXCESO DE CALORIAS</td>\n",
       "      <td>N</td>\n",
       "      <td>2023-05-23 08:42:52</td>\n",
       "      <td>2-10</td>\n",
       "      <td>1951-08-02</td>\n",
       "      <td>74</td>\n",
       "      <td>F</td>\n",
       "    </tr>\n",
       "    <tr>\n",
       "      <th>1</th>\n",
       "      <td>32</td>\n",
       "      <td>2-10</td>\n",
       "      <td>F2</td>\n",
       "      <td>58</td>\n",
       "      <td>K760</td>\n",
       "      <td>DEGENERACION GRASA DEL HIGADO, NO CLASIFICADAS...</td>\n",
       "      <td>N</td>\n",
       "      <td>2023-05-23 09:42:43</td>\n",
       "      <td>2-10</td>\n",
       "      <td>1951-08-02</td>\n",
       "      <td>74</td>\n",
       "      <td>F</td>\n",
       "    </tr>\n",
       "    <tr>\n",
       "      <th>2</th>\n",
       "      <td>46</td>\n",
       "      <td>2-10</td>\n",
       "      <td>F2</td>\n",
       "      <td>58</td>\n",
       "      <td>K740</td>\n",
       "      <td>FIBROSIS HEPATICA</td>\n",
       "      <td>N</td>\n",
       "      <td>2024-05-24 15:44:58</td>\n",
       "      <td>2-10</td>\n",
       "      <td>1951-08-02</td>\n",
       "      <td>74</td>\n",
       "      <td>F</td>\n",
       "    </tr>\n",
       "    <tr>\n",
       "      <th>3</th>\n",
       "      <td>41</td>\n",
       "      <td>2-10</td>\n",
       "      <td>F2</td>\n",
       "      <td>58</td>\n",
       "      <td>R945</td>\n",
       "      <td>RESULTADOS ANORMALES EN ESTUDIOS FUNCIONALES D...</td>\n",
       "      <td>N</td>\n",
       "      <td>2024-02-14 16:02:28</td>\n",
       "      <td>2-10</td>\n",
       "      <td>1951-08-02</td>\n",
       "      <td>74</td>\n",
       "      <td>F</td>\n",
       "    </tr>\n",
       "    <tr>\n",
       "      <th>4</th>\n",
       "      <td>38</td>\n",
       "      <td>2-10</td>\n",
       "      <td>F2</td>\n",
       "      <td>58</td>\n",
       "      <td>K760</td>\n",
       "      <td>DEGENERACION GRASA DEL HIGADO, NO CLASIFICADAS...</td>\n",
       "      <td>N</td>\n",
       "      <td>2023-12-21 14:51:22</td>\n",
       "      <td>2-10</td>\n",
       "      <td>1951-08-02</td>\n",
       "      <td>74</td>\n",
       "      <td>F</td>\n",
       "    </tr>\n",
       "  </tbody>\n",
       "</table>\n",
       "</div>"
      ],
      "text/plain": [
       "   EVENTO Codigo_x FIBROSIS  NUMPACIENTE DIAGNOSTICO  \\\n",
       "0      31     2-10       F2           58    E660       \n",
       "1      32     2-10       F2           58    K760       \n",
       "2      46     2-10       F2           58    K740       \n",
       "3      41     2-10       F2           58    R945       \n",
       "4      38     2-10       F2           58    K760       \n",
       "\n",
       "                                  NOMBRE_DIAGNOSTICO PRINCIPAL  \\\n",
       "0               OBESIDAD DEBIDA A EXCESO DE CALORIAS         N   \n",
       "1  DEGENERACION GRASA DEL HIGADO, NO CLASIFICADAS...         N   \n",
       "2                                  FIBROSIS HEPATICA         N   \n",
       "3  RESULTADOS ANORMALES EN ESTUDIOS FUNCIONALES D...         N   \n",
       "4  DEGENERACION GRASA DEL HIGADO, NO CLASIFICADAS...         N   \n",
       "\n",
       "    FECHA_DIAGNOSTICO Codigo_y FECHA_NACIMIENTO  EDAD_ACTUAL SEXO_PAC  \n",
       "0 2023-05-23 08:42:52     2-10       1951-08-02           74        F  \n",
       "1 2023-05-23 09:42:43     2-10       1951-08-02           74        F  \n",
       "2 2024-05-24 15:44:58     2-10       1951-08-02           74        F  \n",
       "3 2024-02-14 16:02:28     2-10       1951-08-02           74        F  \n",
       "4 2023-12-21 14:51:22     2-10       1951-08-02           74        F  "
      ]
     },
     "metadata": {},
     "output_type": "display_data"
    }
   ],
   "source": [
    "# Unir df_personales y df_dx por la columna NUMPACIENTE\n",
    "df_merged = pd.merge(df_dx, df_personales, on=[\"NUMPACIENTE\", \"FIBROSIS\"], how=\"inner\")\n",
    "\n",
    "\n",
    "print(f\"Dimensiones: {df_merged.shape}\")\n",
    "print(f\"Columnas: {df_merged.columns.tolist()}\")\n",
    "print(f\"Registros únicos de pacientes: {df_merged['NUMPACIENTE'].nunique()}\")\n",
    "print(f\"Estadios de fibrosis presentes: {df_merged['FIBROSIS'].unique()}\")\n",
    "\n",
    "\n",
    "# Vista previa\n",
    "df_merged.head()\n"
   ]
  },
  {
   "cell_type": "code",
   "execution_count": null,
   "id": "0a989bbd",
   "metadata": {},
   "outputs": [
    {
     "name": "stdout",
     "output_type": "stream",
     "text": [
      "Total de registros combinados: 900\n",
      "Pacientes únicos: 94\n",
      "Estadios de fibrosis: ['F2', 'F3', 'F4', 'F1', 'F0']\n",
      "\n"
     ]
    }
   ],
   "source": [
    "print(f\"Total de registros combinados: {len(df_merged)}\")\n",
    "print(f\"Pacientes únicos: {df_merged['NUMPACIENTE'].nunique()}\")\n",
    "print(f\"Estadios de fibrosis: {df_merged['FIBROSIS'].unique().tolist()}\\n\")"
   ]
  },
  {
   "cell_type": "code",
   "execution_count": null,
   "id": "71691e3b",
   "metadata": {},
   "outputs": [
    {
     "name": "stdout",
     "output_type": "stream",
     "text": [
      "Edad promedio por estadio y sexo:\n",
      "FIBROSIS  SEXO_PAC\n",
      "F0        F           60.4\n",
      "          M           67.9\n",
      "F1        F           60.0\n",
      "          M           64.0\n",
      "F2        F           68.7\n",
      "          M           59.5\n",
      "F3        F           60.2\n",
      "          M           62.8\n",
      "F4        F           64.4\n",
      "          M           64.1\n",
      "Name: EDAD_ACTUAL, dtype: float64\n"
     ]
    }
   ],
   "source": [
    "edad_fibrosis_sexo = df_merged.groupby([\"FIBROSIS\", \"SEXO_PAC\"])[\"EDAD_ACTUAL\"].mean().round(1)\n",
    "print(\"Edad promedio por estadio y sexo:\")\n",
    "print(edad_fibrosis_sexo)"
   ]
  },
  {
   "cell_type": "code",
   "execution_count": null,
   "id": "0670494a",
   "metadata": {},
   "outputs": [
    {
     "name": "stderr",
     "output_type": "stream",
     "text": [
      "C:\\Users\\wired\\AppData\\Local\\Temp\\ipykernel_20744\\2190075703.py:2: FutureWarning: \n",
      "\n",
      "The `ci` parameter is deprecated. Use `errorbar=None` for the same effect.\n",
      "\n",
      "  sns.barplot(data=df_merged, x=\"FIBROSIS\", y=\"EDAD_ACTUAL\", hue=\"SEXO_PAC\", ci=None)\n"
     ]
    },
    {
     "data": {
      "image/png": "[encoded data removed]",
      "text/plain": [
       "<Figure size 700x500 with 1 Axes>"
      ]
     },
     "metadata": {},
     "output_type": "display_data"
    }
   ],
   "source": [
    "plt.figure(figsize=(7,5))\n",
    "sns.barplot(data=df_merged, x=\"FIBROSIS\", y=\"EDAD_ACTUAL\", hue=\"SEXO_PAC\", ci=None)\n",
    "plt.title(\"Edad promedio por estadio de fibrosis y sexo\")\n",
    "plt.xlabel(\"Estadio de fibrosis\")\n",
    "plt.ylabel(\"Edad promedio\")\n",
    "plt.tight_layout()\n",
    "plt.show()\n"
   ]
  },
  {
   "cell_type": "code",
   "execution_count": null,
   "id": "c636da0c",
   "metadata": {},
   "outputs": [
    {
     "name": "stdout",
     "output_type": "stream",
     "text": [
      "Edad promedio por diagnóstico (Top 10 más frecuentes):\n",
      "\n",
      "                                                                                                                                                      NOMBRE_DIAGNOSTICO  EDAD_ACTUAL\n",
      "DIABETES MELLITUS  NO INSULINODEPENDIENTE, (SIN OBESIDAD),(CON OBESIDAD): DE COMIENZO EN EL ADULTO, DE COMIENZO EN LA MADUREZ DEL ADULTO, ESTABLE, NO CETÓSICA, TIPO II.    69.000000\n",
      "                                                                                                                                                       FIBROSIS HEPATICA    68.931034\n",
      "                                                                                                                 RESULTADOS ANORMALES EN ESTUDIOS FUNCIONALES DEL HIGADO    68.500000\n",
      "                                                                                                                                                     OTRA HIPERLIPIDEMIA    68.000000\n",
      "                                                                                             HALLAZGOS ANORMALES EN DIAGNOSTICO POR IMAGEN DEL HIGADO Y DE VIAS BILIARES    67.000000\n",
      "                                                                                                                                          HIPERLIPIDEMIA NO ESPECIFICADA    64.833333\n",
      "                                                                                                            DEGENERACION GRASA DEL HIGADO, NO CLASIFICADAS EN OTRA PARTE    63.738956\n",
      "                                                                                                                                    OBESIDAD DEBIDA A EXCESO DE CALORIAS    63.583333\n",
      "                                                                                                                        OTRAS CIRROSIS DEL HIGADO Y LAS NO ESPECIFICADAS    62.583942\n",
      "                                                                                                ELEVACION DE LOS NIVELES DE TRANSAMINASAS O DESHIDROGENASA LACTICA [DHL]    62.237288\n"
     ]
    }
   ],
   "source": [
    "# Edad promedio por diagnóstico (Top 10 más frecuentes)\n",
    "edad_diagnostico = (\n",
    "    df_merged.groupby(\"NOMBRE_DIAGNOSTICO\")[\"EDAD_ACTUAL\"]\n",
    "    .mean()\n",
    "    .sort_values(ascending=False)\n",
    "    .head(10)\n",
    "    .reset_index()\n",
    ")\n",
    "\n",
    "print(\"Edad promedio por diagnóstico (Top 10 más frecuentes):\\n\")\n",
    "print(edad_diagnostico.to_string(index=False))\n"
   ]
  },
  {
   "cell_type": "code",
   "execution_count": null,
   "id": "f922e598",
   "metadata": {},
   "outputs": [
    {
     "data": {
      "image/png": "[encoded data removed]",
      "text/plain": [
       "<Figure size 600x400 with 2 Axes>"
      ]
     },
     "metadata": {},
     "output_type": "display_data"
    }
   ],
   "source": [
    "edad_eventos = (\n",
    "    df_merged.groupby(\"FIBROSIS\")[[\"EDAD_ACTUAL\", \"EVENTO\"]]\n",
    "    .agg({\"EDAD_ACTUAL\": \"mean\", \"EVENTO\": \"count\"})\n",
    "    .rename(columns={\"EVENTO\": \"Total_eventos\"})\n",
    ")\n",
    "\n",
    "plt.figure(figsize=(6,4))\n",
    "sns.heatmap(edad_eventos, annot=True, cmap=\"YlOrRd\", fmt=\".1f\")\n",
    "plt.title(\"Relación entre edad promedio, número de eventos y estadio de fibrosis\")\n",
    "plt.ylabel(\"Estadio de fibrosis\")\n",
    "plt.tight_layout()\n",
    "plt.show()\n"
   ]
  },
  {
   "cell_type": "markdown",
   "id": "1693372a",
   "metadata": {},
   "source": [
    "La gráfica muestra que la edad promedio de los pacientes se mantiene estable entre los distintos estadios de fibrosis (entre 60 y 66 años), por lo que la edad no parece ser un factor diferenciador claro. Sin embargo, los estadios F1, F3 y F4 concentran un mayor número de eventos clínicos, lo que sugiere que los pacientes con fibrosis leve o avanzada requieren más seguimiento o presentan una mayor actividad médica, mientras que los casos sin fibrosis (F0) muestran menos registros."
   ]
  }
 ],
 "metadata": {
  "kernelspec": {
   "display_name": "Python 3",
   "language": "python",
   "name": "python3"
  },
  "language_info": {
   "codemirror_mode": {
    "name": "ipython",
    "version": 3
   },
   "file_extension": ".py",
   "mimetype": "text/x-python",
   "name": "python",
   "nbconvert_exporter": "python",
   "pygments_lexer": "ipython3",
   "version": "3.11.9"
  }
 },
 "nbformat": 4,
 "nbformat_minor": 5
}
