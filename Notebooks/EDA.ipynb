{
 "cells": [
  {
   "cell_type": "markdown",
   "id": "8c17f720",
   "metadata": {},
   "source": [
    "### En este Notebook se buscara realizar un entendimiento inicial de los datos de los registros medicos. \n",
    "\n",
    "En este caso se va a realizar un análisis inicial de los datos que se encuentran en las pestañas \"data\" y  \"laboratorios\", las cuales contienen información de biopsias y resultados de laboratorios, respectivamente y correspondiente a diferentes pacientes con diferentes diagnósticos de Fibrosis hepática."
   ]
  },
  {
   "cell_type": "markdown",
   "id": "ac7cb7ae",
   "metadata": {},
   "source": [
    "### Para los datos de las biopsias"
   ]
  },
  {
   "cell_type": "code",
   "execution_count": 3,
   "id": "08c630a0",
   "metadata": {},
   "outputs": [],
   "source": [
    "import pandas as pd\n",
    "import numpy as np\n",
    "import matplotlib.pyplot as plt\n",
    "import seaborn as sns"
   ]
  },
  {
   "cell_type": "code",
   "execution_count": 4,
   "metadata": {},
   "outputs": [],
   "source": [
    "# Se cargan los datos de la pestaña \"data\"\n",
    "biopsias = pd.read_excel(\"data/Base entrega.xlsx\", sheet_name=\"data\")"
   ]
  },
  {
   "cell_type": "code",
   "execution_count": null,
   "id": "97d65610",
   "metadata": {},
   "outputs": [
    {
     "name": "stdout",
     "output_type": "stream",
     "text": [
      "Tamaño biopsias: (148, 7)\n",
      "Tipos de datos biopsias:\n",
      "Codigo                      object\n",
      "FIBROSIS                    object\n",
      "NUMPACIENTE                  int64\n",
      "CUPS                         int64\n",
      "FECHAREVISION               object\n",
      "TEXTO_RESULTADO             object\n",
      "FECHA _RESULTADO    datetime64[ns]\n",
      "dtype: object\n"
     ]
    }
   ],
   "source": [
    "print(\"Tamaño DF biopsias:\", biopsias.shape)\n",
    "\n",
    "print(\"Tipos de datos DF biopsias:\")\n",
    "print(biopsias.dtypes)"
   ]
  },
  {
   "cell_type": "code",
   "execution_count": 16,
   "id": "f215dafe",
   "metadata": {},
   "outputs": [
    {
     "data": {
      "text/html": [
       "<div>\n",
       "<style scoped>\n",
       "    .dataframe tbody tr th:only-of-type {\n",
       "        vertical-align: middle;\n",
       "    }\n",
       "\n",
       "    .dataframe tbody tr th {\n",
       "        vertical-align: top;\n",
       "    }\n",
       "\n",
       "    .dataframe thead th {\n",
       "        text-align: right;\n",
       "    }\n",
       "</style>\n",
       "<table border=\"1\" class=\"dataframe\">\n",
       "  <thead>\n",
       "    <tr style=\"text-align: right;\">\n",
       "      <th></th>\n",
       "      <th>Codigo</th>\n",
       "      <th>FIBROSIS</th>\n",
       "      <th>NUMPACIENTE</th>\n",
       "      <th>CUPS</th>\n",
       "      <th>FECHAREVISION</th>\n",
       "      <th>TEXTO_RESULTADO</th>\n",
       "      <th>FECHA _RESULTADO</th>\n",
       "    </tr>\n",
       "  </thead>\n",
       "  <tbody>\n",
       "    <tr>\n",
       "      <th>0</th>\n",
       "      <td>1-25</td>\n",
       "      <td>F1</td>\n",
       "      <td>35</td>\n",
       "      <td>898101</td>\n",
       "      <td>2023-12-21 00:00:00</td>\n",
       "      <td>\\nHÍGADO, BIOPSIA TRANSYUGULAR; ESTUDIOS DE MI...</td>\n",
       "      <td>2023-12-15</td>\n",
       "    </tr>\n",
       "    <tr>\n",
       "      <th>1</th>\n",
       "      <td>0-1</td>\n",
       "      <td>F0</td>\n",
       "      <td>1</td>\n",
       "      <td>898101</td>\n",
       "      <td>2018-04-11 00:00:00</td>\n",
       "      <td>\\nHIGADO, BIOPSIA TRUCUT: \\nESTEATOHSIS MODERA...</td>\n",
       "      <td>2018-01-26</td>\n",
       "    </tr>\n",
       "    <tr>\n",
       "      <th>2</th>\n",
       "      <td>0-1</td>\n",
       "      <td>F0</td>\n",
       "      <td>1</td>\n",
       "      <td>898101</td>\n",
       "      <td>2018-01-29 00:00:00</td>\n",
       "      <td>\\nHIGADO, BIOPSIA TRUCUT: \\nESTEATOHSIS MODERA...</td>\n",
       "      <td>2018-01-26</td>\n",
       "    </tr>\n",
       "    <tr>\n",
       "      <th>3</th>\n",
       "      <td>4-2</td>\n",
       "      <td>F4</td>\n",
       "      <td>98</td>\n",
       "      <td>898101</td>\n",
       "      <td>2023-01-31 00:00:00</td>\n",
       "      <td>\\n\\nHIGADO, BIOPSIA POR TRUCUT, ESTUDIOS DE MI...</td>\n",
       "      <td>2023-01-26</td>\n",
       "    </tr>\n",
       "    <tr>\n",
       "      <th>4</th>\n",
       "      <td>4-2</td>\n",
       "      <td>F4</td>\n",
       "      <td>98</td>\n",
       "      <td>898101</td>\n",
       "      <td>2023-02-11 00:00:00</td>\n",
       "      <td>\\n\\nHIGADO, BIOPSIA POR TRUCUT, ESTUDIOS DE MI...</td>\n",
       "      <td>2023-01-26</td>\n",
       "    </tr>\n",
       "  </tbody>\n",
       "</table>\n",
       "</div>"
      ],
      "text/plain": [
       "  Codigo FIBROSIS  NUMPACIENTE    CUPS        FECHAREVISION  \\\n",
       "0   1-25       F1           35  898101  2023-12-21 00:00:00   \n",
       "1    0-1       F0            1  898101  2018-04-11 00:00:00   \n",
       "2    0-1       F0            1  898101  2018-01-29 00:00:00   \n",
       "3    4-2       F4           98  898101  2023-01-31 00:00:00   \n",
       "4    4-2       F4           98  898101  2023-02-11 00:00:00   \n",
       "\n",
       "                                     TEXTO_RESULTADO FECHA _RESULTADO  \n",
       "0  \\nHÍGADO, BIOPSIA TRANSYUGULAR; ESTUDIOS DE MI...       2023-12-15  \n",
       "1  \\nHIGADO, BIOPSIA TRUCUT: \\nESTEATOHSIS MODERA...       2018-01-26  \n",
       "2  \\nHIGADO, BIOPSIA TRUCUT: \\nESTEATOHSIS MODERA...       2018-01-26  \n",
       "3  \\n\\nHIGADO, BIOPSIA POR TRUCUT, ESTUDIOS DE MI...       2023-01-26  \n",
       "4  \\n\\nHIGADO, BIOPSIA POR TRUCUT, ESTUDIOS DE MI...       2023-01-26  "
      ]
     },
     "execution_count": 16,
     "metadata": {},
     "output_type": "execute_result"
    }
   ],
   "source": [
    "biopsias.head()"
   ]
  },
  {
   "cell_type": "code",
   "execution_count": 15,
   "id": "69282156",
   "metadata": {},
   "outputs": [
    {
     "data": {
      "text/plain": [
       "120"
      ]
     },
     "execution_count": 15,
     "metadata": {},
     "output_type": "execute_result"
    }
   ],
   "source": [
    "biopsias['NUMPACIENTE'].nunique()"
   ]
  },
  {
   "cell_type": "markdown",
   "id": "0aee565c",
   "metadata": {},
   "source": [
    "De lo anterior notamos que se cuenta con 148 registros de biopsias y además se identificó que estos pertenecen a 120 pacientes diferentes. En cuanto a los tipos de datos y los valores que se estan viendo en el dataframe se evidencia que va a ser necesario realizar algunos arreglos para poder realizar los siguientes análisis."
   ]
  },
  {
   "cell_type": "code",
   "execution_count": 20,
   "id": "27e58e01",
   "metadata": {},
   "outputs": [],
   "source": [
    "biopsias['FECHAREVISION'] = pd.to_datetime(biopsias['FECHAREVISION'], errors='coerce')"
   ]
  },
  {
   "cell_type": "code",
   "execution_count": 21,
   "id": "0778d69b",
   "metadata": {},
   "outputs": [
    {
     "data": {
      "text/html": [
       "<div>\n",
       "<style scoped>\n",
       "    .dataframe tbody tr th:only-of-type {\n",
       "        vertical-align: middle;\n",
       "    }\n",
       "\n",
       "    .dataframe tbody tr th {\n",
       "        vertical-align: top;\n",
       "    }\n",
       "\n",
       "    .dataframe thead th {\n",
       "        text-align: right;\n",
       "    }\n",
       "</style>\n",
       "<table border=\"1\" class=\"dataframe\">\n",
       "  <thead>\n",
       "    <tr style=\"text-align: right;\">\n",
       "      <th></th>\n",
       "      <th>Codigo</th>\n",
       "      <th>FIBROSIS</th>\n",
       "      <th>NUMPACIENTE</th>\n",
       "      <th>CUPS</th>\n",
       "      <th>FECHAREVISION</th>\n",
       "      <th>TEXTO_RESULTADO</th>\n",
       "      <th>FECHA _RESULTADO</th>\n",
       "    </tr>\n",
       "  </thead>\n",
       "  <tbody>\n",
       "    <tr>\n",
       "      <th>0</th>\n",
       "      <td>1-25</td>\n",
       "      <td>F1</td>\n",
       "      <td>35</td>\n",
       "      <td>898101</td>\n",
       "      <td>2023-12-21</td>\n",
       "      <td>\\nHÍGADO, BIOPSIA TRANSYUGULAR; ESTUDIOS DE MI...</td>\n",
       "      <td>2023-12-15</td>\n",
       "    </tr>\n",
       "    <tr>\n",
       "      <th>1</th>\n",
       "      <td>0-1</td>\n",
       "      <td>F0</td>\n",
       "      <td>1</td>\n",
       "      <td>898101</td>\n",
       "      <td>2018-04-11</td>\n",
       "      <td>\\nHIGADO, BIOPSIA TRUCUT: \\nESTEATOHSIS MODERA...</td>\n",
       "      <td>2018-01-26</td>\n",
       "    </tr>\n",
       "    <tr>\n",
       "      <th>2</th>\n",
       "      <td>0-1</td>\n",
       "      <td>F0</td>\n",
       "      <td>1</td>\n",
       "      <td>898101</td>\n",
       "      <td>2018-01-29</td>\n",
       "      <td>\\nHIGADO, BIOPSIA TRUCUT: \\nESTEATOHSIS MODERA...</td>\n",
       "      <td>2018-01-26</td>\n",
       "    </tr>\n",
       "    <tr>\n",
       "      <th>3</th>\n",
       "      <td>4-2</td>\n",
       "      <td>F4</td>\n",
       "      <td>98</td>\n",
       "      <td>898101</td>\n",
       "      <td>2023-01-31</td>\n",
       "      <td>\\n\\nHIGADO, BIOPSIA POR TRUCUT, ESTUDIOS DE MI...</td>\n",
       "      <td>2023-01-26</td>\n",
       "    </tr>\n",
       "    <tr>\n",
       "      <th>4</th>\n",
       "      <td>4-2</td>\n",
       "      <td>F4</td>\n",
       "      <td>98</td>\n",
       "      <td>898101</td>\n",
       "      <td>2023-02-11</td>\n",
       "      <td>\\n\\nHIGADO, BIOPSIA POR TRUCUT, ESTUDIOS DE MI...</td>\n",
       "      <td>2023-01-26</td>\n",
       "    </tr>\n",
       "  </tbody>\n",
       "</table>\n",
       "</div>"
      ],
      "text/plain": [
       "  Codigo FIBROSIS  NUMPACIENTE    CUPS FECHAREVISION  \\\n",
       "0   1-25       F1           35  898101    2023-12-21   \n",
       "1    0-1       F0            1  898101    2018-04-11   \n",
       "2    0-1       F0            1  898101    2018-01-29   \n",
       "3    4-2       F4           98  898101    2023-01-31   \n",
       "4    4-2       F4           98  898101    2023-02-11   \n",
       "\n",
       "                                     TEXTO_RESULTADO FECHA _RESULTADO  \n",
       "0  \\nHÍGADO, BIOPSIA TRANSYUGULAR; ESTUDIOS DE MI...       2023-12-15  \n",
       "1  \\nHIGADO, BIOPSIA TRUCUT: \\nESTEATOHSIS MODERA...       2018-01-26  \n",
       "2  \\nHIGADO, BIOPSIA TRUCUT: \\nESTEATOHSIS MODERA...       2018-01-26  \n",
       "3  \\n\\nHIGADO, BIOPSIA POR TRUCUT, ESTUDIOS DE MI...       2023-01-26  \n",
       "4  \\n\\nHIGADO, BIOPSIA POR TRUCUT, ESTUDIOS DE MI...       2023-01-26  "
      ]
     },
     "execution_count": 21,
     "metadata": {},
     "output_type": "execute_result"
    }
   ],
   "source": [
    "biopsias.head()  # Muestra las primeras filas del DataFrame para inspección inicial"
   ]
  },
  {
   "cell_type": "markdown",
   "id": "a1d2fd33",
   "metadata": {},
   "source": [
    "#### Análisis univariado"
   ]
  },
  {
   "cell_type": "code",
   "execution_count": 17,
   "id": "4fed08c7",
   "metadata": {},
   "outputs": [
    {
     "data": {
      "text/plain": [
       "FIBROSIS\n",
       "F1    44\n",
       "F4    33\n",
       "F3    27\n",
       "F2    26\n",
       "F0    18\n",
       "Name: count, dtype: int64"
      ]
     },
     "execution_count": 17,
     "metadata": {},
     "output_type": "execute_result"
    }
   ],
   "source": [
    "biopsias['FIBROSIS'].value_counts()"
   ]
  },
  {
   "cell_type": "code",
   "execution_count": 23,
   "id": "15a7d97c",
   "metadata": {},
   "outputs": [
    {
     "data": {
      "text/plain": [
       "Text(0.5, 1.0, 'Distribución de tipos de Fibrosis')"
      ]
     },
     "execution_count": 23,
     "metadata": {},
     "output_type": "execute_result"
    },
    {
     "data": {
      "image/png": "[encoded data removed]",
      "text/plain": [
       "<Figure size 800x600 with 1 Axes>"
      ]
     },
     "metadata": {},
     "output_type": "display_data"
    }
   ],
   "source": [
    "plt.figure(figsize=(8, 6))\n",
    "sns.countplot(data=biopsias, x='FIBROSIS', order=biopsias['FIBROSIS'].value_counts().index)\n",
    "plt.title('Distribución de tipos de Fibrosis')"
   ]
  },
  {
   "cell_type": "code",
   "execution_count": 19,
   "id": "34d25288",
   "metadata": {},
   "outputs": [
    {
     "data": {
      "text/plain": [
       "120"
      ]
     },
     "execution_count": 19,
     "metadata": {},
     "output_type": "execute_result"
    }
   ],
   "source": [
    "biopsias['Codigo'].nunique()"
   ]
  },
  {
   "cell_type": "code",
   "execution_count": 25,
   "id": "b40d2b74",
   "metadata": {},
   "outputs": [
    {
     "data": {
      "text/plain": [
       "array([898101, 898103])"
      ]
     },
     "execution_count": 25,
     "metadata": {},
     "output_type": "execute_result"
    }
   ],
   "source": [
    "biopsias['CUPS'].unique()"
   ]
  },
  {
   "cell_type": "markdown",
   "id": "677305bb",
   "metadata": {},
   "source": [
    "En este caso no aporta mucho realizar análisis multivariado sobre estas características ya que no nos brindaría nueva información, por lo que se continuará con el analisis de los datos de laboratorio y se evaluará hacer un \"join\" de los dataframes para enriquecer el análisis."
   ]
  },
  {
   "cell_type": "markdown",
   "id": "cdabbd63",
   "metadata": {},
   "source": [
    "### Para los datos de los resultados de laboratorios"
   ]
  },
  {
   "cell_type": "code",
   "execution_count": 26,
   "id": "7c5165e5",
   "metadata": {},
   "outputs": [],
   "source": [
    "labs = pd.read_excel(\"data/Base entrega.xlsx\", sheet_name=\"laboratorios\")"
   ]
  },
  {
   "cell_type": "code",
   "execution_count": 27,
   "id": "044e11b8",
   "metadata": {},
   "outputs": [
    {
     "name": "stdout",
     "output_type": "stream",
     "text": [
      "Tamaño DF laboratorios: (9648, 8)\n",
      "Tipos de datos DF laboratorios:\n",
      "RESULTADO_1             object\n",
      "FECHA_EXAMEN    datetime64[ns]\n",
      "PRUEBA                  object\n",
      "Codigo                  object\n",
      "FIBROSIS                object\n",
      "NUMPACIENTE              int64\n",
      "ESTUDIO                 object\n",
      "RESULTADO_2             object\n",
      "dtype: object\n"
     ]
    }
   ],
   "source": [
    "print(\"Tamaño DF laboratorios:\", labs.shape)\n",
    "\n",
    "print(\"Tipos de datos DF laboratorios:\")\n",
    "print(labs.dtypes)"
   ]
  },
  {
   "cell_type": "code",
   "execution_count": 28,
   "id": "34949d2a",
   "metadata": {},
   "outputs": [
    {
     "data": {
      "text/html": [
       "<div>\n",
       "<style scoped>\n",
       "    .dataframe tbody tr th:only-of-type {\n",
       "        vertical-align: middle;\n",
       "    }\n",
       "\n",
       "    .dataframe tbody tr th {\n",
       "        vertical-align: top;\n",
       "    }\n",
       "\n",
       "    .dataframe thead th {\n",
       "        text-align: right;\n",
       "    }\n",
       "</style>\n",
       "<table border=\"1\" class=\"dataframe\">\n",
       "  <thead>\n",
       "    <tr style=\"text-align: right;\">\n",
       "      <th></th>\n",
       "      <th>RESULTADO_1</th>\n",
       "      <th>FECHA_EXAMEN</th>\n",
       "      <th>PRUEBA</th>\n",
       "      <th>Codigo</th>\n",
       "      <th>FIBROSIS</th>\n",
       "      <th>NUMPACIENTE</th>\n",
       "      <th>ESTUDIO</th>\n",
       "      <th>RESULTADO_2</th>\n",
       "    </tr>\n",
       "  </thead>\n",
       "  <tbody>\n",
       "    <tr>\n",
       "      <th>0</th>\n",
       "      <td>0.22</td>\n",
       "      <td>2017-07-30 08:53:38</td>\n",
       "      <td>BILIRRUBINA DIRECTA</td>\n",
       "      <td>0-1</td>\n",
       "      <td>F0</td>\n",
       "      <td>1</td>\n",
       "      <td>BILIRRUBINAS</td>\n",
       "      <td>0.22</td>\n",
       "    </tr>\n",
       "    <tr>\n",
       "      <th>1</th>\n",
       "      <td>0.78</td>\n",
       "      <td>2017-07-30 08:53:38</td>\n",
       "      <td>BILIRRUBINA INDIRECTA</td>\n",
       "      <td>0-1</td>\n",
       "      <td>F0</td>\n",
       "      <td>1</td>\n",
       "      <td>BILIRRUBINAS</td>\n",
       "      <td>0.78</td>\n",
       "    </tr>\n",
       "    <tr>\n",
       "      <th>2</th>\n",
       "      <td>1</td>\n",
       "      <td>2017-07-30 08:53:38</td>\n",
       "      <td>BILIRRUBINA TOTAL</td>\n",
       "      <td>0-1</td>\n",
       "      <td>F0</td>\n",
       "      <td>1</td>\n",
       "      <td>BILIRRUBINAS</td>\n",
       "      <td>1</td>\n",
       "    </tr>\n",
       "    <tr>\n",
       "      <th>3</th>\n",
       "      <td>36</td>\n",
       "      <td>2017-07-30 08:53:38</td>\n",
       "      <td>GAMMA GLUTAMIL TRANSFERASA (GGT)</td>\n",
       "      <td>0-1</td>\n",
       "      <td>F0</td>\n",
       "      <td>1</td>\n",
       "      <td>GAMMA GLUTAMIL TRANSFERASA (GGT)</td>\n",
       "      <td>36</td>\n",
       "    </tr>\n",
       "    <tr>\n",
       "      <th>4</th>\n",
       "      <td>1.07</td>\n",
       "      <td>2017-07-30 08:53:38</td>\n",
       "      <td>INR</td>\n",
       "      <td>0-1</td>\n",
       "      <td>F0</td>\n",
       "      <td>1</td>\n",
       "      <td>TIEMPO DE PROTROMBINA [PT]</td>\n",
       "      <td>1.07</td>\n",
       "    </tr>\n",
       "  </tbody>\n",
       "</table>\n",
       "</div>"
      ],
      "text/plain": [
       "  RESULTADO_1        FECHA_EXAMEN                            PRUEBA Codigo  \\\n",
       "0        0.22 2017-07-30 08:53:38               BILIRRUBINA DIRECTA    0-1   \n",
       "1        0.78 2017-07-30 08:53:38             BILIRRUBINA INDIRECTA    0-1   \n",
       "2           1 2017-07-30 08:53:38                 BILIRRUBINA TOTAL    0-1   \n",
       "3          36 2017-07-30 08:53:38  GAMMA GLUTAMIL TRANSFERASA (GGT)    0-1   \n",
       "4        1.07 2017-07-30 08:53:38                               INR    0-1   \n",
       "\n",
       "  FIBROSIS  NUMPACIENTE                           ESTUDIO RESULTADO_2  \n",
       "0       F0            1                      BILIRRUBINAS        0.22  \n",
       "1       F0            1                      BILIRRUBINAS        0.78  \n",
       "2       F0            1                      BILIRRUBINAS           1  \n",
       "3       F0            1  GAMMA GLUTAMIL TRANSFERASA (GGT)          36  \n",
       "4       F0            1        TIEMPO DE PROTROMBINA [PT]        1.07  "
      ]
     },
     "execution_count": 28,
     "metadata": {},
     "output_type": "execute_result"
    }
   ],
   "source": [
    "labs.head()"
   ]
  },
  {
   "cell_type": "markdown",
   "id": "3ed65354",
   "metadata": {},
   "source": [
    "#### Analisis univariado"
   ]
  },
  {
   "cell_type": "code",
   "execution_count": null,
   "id": "b35d0531",
   "metadata": {},
   "outputs": [
    {
     "name": "stdout",
     "output_type": "stream",
     "text": [
      "total de codigos diferentes:  78\n",
      "total de pacientes con laboratorio:  78\n"
     ]
    }
   ],
   "source": [
    "print(\"total de codigos diferentes: \", labs['Codigo'].unique().size)\n",
    "print(\"total de pacientes con laboratorio: \", labs['NUMPACIENTE'].unique().size)"
   ]
  },
  {
   "cell_type": "code",
   "execution_count": null,
   "id": "e7e42200",
   "metadata": {},
   "outputs": [
    {
     "data": {
      "text/plain": [
       "array(['BILIRRUBINAS', 'GAMMA GLUTAMIL TRANSFERASA (GGT)',\n",
       "       'TIEMPO DE PROTROMBINA [PT]', 'HEMOGRAMA',\n",
       "       'TRANSAMINASA GLUTAMICO OXALACETICA O ASPARTATO AMINO TRANSFERASA (TGO-AST)',\n",
       "       'TRANSAMINASA GLUTAMICO PIRUVICA O ALANINO AMINO TRANSFERASA (TGP-ALT)',\n",
       "       'DESHIDROGENASA LACTICA (LDH)', 'FOSFATASA ALCALINA'], dtype=object)"
      ]
     },
     "execution_count": 31,
     "metadata": {},
     "output_type": "execute_result"
    }
   ],
   "source": [
    "# Tipos de estudios realizados en los exámenes de laboratorio\n",
    "labs['ESTUDIO'].unique()"
   ]
  },
  {
   "cell_type": "code",
   "execution_count": 39,
   "id": "ce2a3a72",
   "metadata": {},
   "outputs": [
    {
     "data": {
      "text/plain": [
       "ESTUDIO\n",
       "BILIRRUBINAS                                                                  3513\n",
       "HEMOGRAMA                                                                     1641\n",
       "TRANSAMINASA GLUTAMICO PIRUVICA O ALANINO AMINO TRANSFERASA (TGP-ALT)         1196\n",
       "TRANSAMINASA GLUTAMICO OXALACETICA O ASPARTATO AMINO TRANSFERASA (TGO-AST)    1196\n",
       "FOSFATASA ALCALINA                                                             987\n",
       "TIEMPO DE PROTROMBINA [PT]                                                     905\n",
       "GAMMA GLUTAMIL TRANSFERASA (GGT)                                               118\n",
       "DESHIDROGENASA LACTICA (LDH)                                                    92\n",
       "Name: count, dtype: int64"
      ]
     },
     "execution_count": 39,
     "metadata": {},
     "output_type": "execute_result"
    }
   ],
   "source": [
    "#Conteo de cada tipo de estudio\n",
    "labs['ESTUDIO'].value_counts()"
   ]
  },
  {
   "cell_type": "code",
   "execution_count": null,
   "id": "5d84f77b",
   "metadata": {},
   "outputs": [
    {
     "data": {
      "text/plain": [
       "PRUEBA\n",
       "PLAQUETAS                                                                     1641\n",
       "TRANSAMINASA GLUTAMICO OXALACETICA O ASPARTATO AMINO TRANSFERASA (TGO-AST)    1196\n",
       "TRANSAMINASA GLUTAMICO PIRUVICA O ALANINO AMINO TRANSFERASA (TGP-ALT)         1196\n",
       "BILIRRUBINA DIRECTA                                                           1171\n",
       "BILIRRUBINA INDIRECTA                                                         1171\n",
       "BILIRRUBINA TOTAL                                                             1171\n",
       "FOSFATASA ALCALINA                                                             987\n",
       "INR                                                                            905\n",
       "GAMMA GLUTAMIL TRANSFERASA (GGT)                                               118\n",
       "DESHIDROGENASA LACTICA (LDH)                                                    92\n",
       "Name: count, dtype: int64"
      ]
     },
     "execution_count": 38,
     "metadata": {},
     "output_type": "execute_result"
    }
   ],
   "source": [
    "# Conteo de cada tipo de prueba\n",
    "labs['PRUEBA'].value_counts()"
   ]
  },
  {
   "cell_type": "code",
   "execution_count": 35,
   "id": "b7196d0e",
   "metadata": {},
   "outputs": [
    {
     "data": {
      "text/plain": [
       "FIBROSIS\n",
       "F3    3476\n",
       "F4    2684\n",
       "F1    2063\n",
       "F2     823\n",
       "F0     602\n",
       "Name: count, dtype: int64"
      ]
     },
     "execution_count": 35,
     "metadata": {},
     "output_type": "execute_result"
    }
   ],
   "source": [
    "labs['FIBROSIS'].value_counts()"
   ]
  },
  {
   "cell_type": "code",
   "execution_count": 36,
   "id": "9836a448",
   "metadata": {},
   "outputs": [
    {
     "data": {
      "image/png": "[encoded data removed]",
      "text/plain": [
       "<Figure size 800x600 with 1 Axes>"
      ]
     },
     "metadata": {},
     "output_type": "display_data"
    }
   ],
   "source": [
    "plt.figure(figsize=(8, 6))\n",
    "sns.countplot(data=labs, x='FIBROSIS', order=labs['FIBROSIS'].value_counts().index)\n",
    "plt.title('Distribución de tipos de Fibrosis')\n",
    "plt.show()"
   ]
  },
  {
   "cell_type": "markdown",
   "id": "150b606f",
   "metadata": {},
   "source": [
    "#### Analisis multivariado"
   ]
  },
  {
   "cell_type": "code",
   "execution_count": 55,
   "id": "68150b0d",
   "metadata": {},
   "outputs": [],
   "source": [
    "df2 = labs[labs['PRUEBA'] == 'BILIRRUBINA TOTAL']"
   ]
  },
  {
   "cell_type": "code",
   "execution_count": 58,
   "id": "8c0c5508",
   "metadata": {},
   "outputs": [
    {
     "data": {
      "text/plain": [
       "<bound method NDFrame.describe of 2          1\n",
       "10       0.7\n",
       "29       0.8\n",
       "41       1.3\n",
       "47       1.8\n",
       "        ... \n",
       "9611    1.14\n",
       "9618    1.45\n",
       "9623    1.27\n",
       "9633    1.31\n",
       "9642    1.06\n",
       "Name: RESULTADO_1, Length: 1171, dtype: object>"
      ]
     },
     "execution_count": 58,
     "metadata": {},
     "output_type": "execute_result"
    }
   ],
   "source": [
    "df2[\"RESULTADO_1\"].describe"
   ]
  },
  {
   "cell_type": "code",
   "execution_count": 56,
   "id": "1b015a52",
   "metadata": {},
   "outputs": [
    {
     "data": {
      "image/png": "[encoded data removed]",
      "text/plain": [
       "<Figure size 1000x600 with 1 Axes>"
      ]
     },
     "metadata": {},
     "output_type": "display_data"
    }
   ],
   "source": [
    "# Vamos a ver como se relaciona el resultado de la prueba de Bilirrubina total con el tipo de Fibrosis\n",
    "plt.figure(figsize=(10, 6))\n",
    "plt.scatter(df2['FIBROSIS'], df2['RESULTADO_1'], alpha=0.6)\n",
    "plt.title('Relación entre Fibrosis y Bilirrubina Total')\n",
    "plt.show()"
   ]
  },
  {
   "cell_type": "code",
   "execution_count": 52,
   "id": "6fb7fde0",
   "metadata": {},
   "outputs": [
    {
     "data": {
      "text/plain": [
       "Text(0.5, 1.0, 'Distribución de Bilirrubina Total por Tipo de Fibrosis')"
      ]
     },
     "execution_count": 52,
     "metadata": {},
     "output_type": "execute_result"
    },
    {
     "data": {
      "image/png": "[encoded data removed]",
      "text/plain": [
       "<Figure size 800x600 with 1 Axes>"
      ]
     },
     "metadata": {},
     "output_type": "display_data"
    }
   ],
   "source": [
    "plt.figure(figsize=(8, 6))\n",
    "sns.boxplot(data=df2, x='FIBROSIS', y='RESULTADO_1')\n",
    "plt.title('Distribución de Bilirrubina Total por Tipo de Fibrosis')"
   ]
  },
  {
   "cell_type": "code",
   "execution_count": 60,
   "id": "3f086e5a",
   "metadata": {},
   "outputs": [
    {
     "name": "stderr",
     "output_type": "stream",
     "text": [
      "C:\\Users\\carlo\\AppData\\Local\\Temp\\ipykernel_15600\\3362988975.py:1: SettingWithCopyWarning: \n",
      "A value is trying to be set on a copy of a slice from a DataFrame.\n",
      "Try using .loc[row_indexer,col_indexer] = value instead\n",
      "\n",
      "See the caveats in the documentation: https://pandas.pydata.org/pandas-docs/stable/user_guide/indexing.html#returning-a-view-versus-a-copy\n",
      "  df2[\"RESULTADO_1\"] = df2['RESULTADO_1'].astype(float)\n"
     ]
    }
   ],
   "source": [
    "df2[\"RESULTADO_1\"] = df2['RESULTADO_1'].astype(float)"
   ]
  },
  {
   "cell_type": "code",
   "execution_count": 62,
   "id": "978c271a",
   "metadata": {},
   "outputs": [
    {
     "data": {
      "text/plain": [
       "np.float64(36.56)"
      ]
     },
     "execution_count": 62,
     "metadata": {},
     "output_type": "execute_result"
    }
   ],
   "source": [
    "df2['RESULTADO_1'].max()"
   ]
  }
 ],
 "metadata": {
  "kernelspec": {
   "display_name": "AppliedDataScience",
   "language": "python",
   "name": "python3"
  },
  "language_info": {
   "codemirror_mode": {
    "name": "ipython",
    "version": 3
   },
   "file_extension": ".py",
   "mimetype": "text/x-python",
   "name": "python",
   "nbconvert_exporter": "python",
   "pygments_lexer": "ipython3",
   "version": "3.11.13"
  }
 },
 "nbformat": 4,
 "nbformat_minor": 5
}
