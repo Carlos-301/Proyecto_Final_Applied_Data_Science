{
 "cells": [
  {
   "cell_type": "markdown",
   "id": "8c17f720",
   "metadata": {},
   "source": [
    "### En este Notebook se buscara realizar un entendimiento inicial de los datos de los registros medicos"
   ]
  },
  {
   "cell_type": "code",
   "execution_count": 8,
   "id": "08c630a0",
   "metadata": {},
   "outputs": [],
   "source": [
    "import pandas as pd\n",
    "import numpy as np\n",
    "import matplotlib.pyplot as plt\n",
    "import seaborn as sns"
   ]
  }
 ],
 "metadata": {
  "kernelspec": {
   "display_name": "Python 3",
   "language": "python",
   "name": "python3"
  },
  "language_info": {
   "codemirror_mode": {
    "name": "ipython",
    "version": 3
   },
   "file_extension": ".py",
   "mimetype": "text/x-python",
   "name": "python",
   "nbconvert_exporter": "python",
   "pygments_lexer": "ipython3",
   "version": "3.11.9"
  }
 },
 "nbformat": 4,
 "nbformat_minor": 5
}
